{
 "cells": [
  {
   "cell_type": "markdown",
   "id": "4eaea13e",
   "metadata": {},
   "source": [
    "# Presentación Personal"
   ]
  },
  {
   "cell_type": "markdown",
   "id": "1e4976e4",
   "metadata": {},
   "source": [
    "## Carrera:"
   ]
  },
  {
   "cell_type": "markdown",
   "id": "29681f35",
   "metadata": {},
   "source": [
    "INGENIERIA FINANCIERA, 3er semestre"
   ]
  },
  {
   "cell_type": "markdown",
   "id": "36f9ef1e",
   "metadata": {},
   "source": [
    "## Inf. personal y Hobbies:"
   ]
  },
  {
   "cell_type": "markdown",
   "id": "38da3047",
   "metadata": {},
   "source": [
    "Soy josé carlos López Aguilar, tengo 19 años y soy de Los Mochis, Sinaloa.\n",
    "\n",
    "**Hobbies:**\n",
    "1. Ver series\n",
    "2. ver y jugar deportes\n",
    "3. salir con mis amigos\n",
    "4. Escuchar música"
   ]
  },
  {
   "cell_type": "markdown",
   "id": "0ddeb38f",
   "metadata": {},
   "source": [
    "## Introducción de un tema: Economía Internacional "
   ]
  },
  {
   "cell_type": "markdown",
   "id": "ff259d75",
   "metadata": {},
   "source": [
    "La economía internacional es la rama de la economía que analiza las transacciones comerciales entre dos o más países. Estas pueden referirse a intercambios de bienes o servicios u operaciones financieras.\n",
    "\n",
    "La teoría de la economía internacional se divide en dos\n",
    "grandes campos: el estudio del comercio internacional\n",
    "y el estudio de las finanzas internacionales.\n",
    "\n",
    "1. El análisis del comercio internacional pone el énfasis en\n",
    "las transacciones reales de la economía internacional,\n",
    "es decir, en aquellas transacciones que implican un\n",
    "movimiento físico de bienes o un compromiso tangible\n",
    "de recursos económicos.\n",
    "\n",
    "1. El análisis financiero internacional pone el acento en el\n",
    "lado monetario de la economía internacional\n",
    "\n",
    "**Características de la economía internacional**\n",
    "\n",
    "• Es una rama del conocimiento que se relaciona, y ha venido siendo impulsada, por el fenómeno de la globalización. Así, cada vez es más fácil comerciar con el resto del mundo.\n",
    "\n",
    "• Estudia las ventajas y desventajas que puede traer la apertura comercial a un país.\n",
    "\n",
    "• Analiza los efectos de los tratados comerciales en los mercados que apuestan por ellos.\n",
    "\n",
    "• Estudia no solo el impacto de los impuestos a las importaciones, sino de las barreras no arancelarias como son los requisitos fitosanitarios.\n",
    "\n",
    "• Se relaciona con la geopolítica. Hay países que se asocian por intereses diplomáticos comunes. Sin embargo, sus economías no necesariamente son complementarias. Es decir, las naciones que se integran no siempre tienen ventajas comparativas en diferentes sectores."
   ]
  }
 ],
 "metadata": {
  "kernelspec": {
   "display_name": "Python 3 (ipykernel)",
   "language": "python",
   "name": "python3"
  },
  "language_info": {
   "codemirror_mode": {
    "name": "ipython",
    "version": 3
   },
   "file_extension": ".py",
   "mimetype": "text/x-python",
   "name": "python",
   "nbconvert_exporter": "python",
   "pygments_lexer": "ipython3",
   "version": "3.9.7"
  }
 },
 "nbformat": 4,
 "nbformat_minor": 5
}

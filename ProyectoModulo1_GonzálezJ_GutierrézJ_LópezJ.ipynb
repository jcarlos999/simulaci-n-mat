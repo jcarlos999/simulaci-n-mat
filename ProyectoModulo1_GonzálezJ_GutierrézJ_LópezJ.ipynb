{
 "cells": [
  {
   "cell_type": "markdown",
   "id": "381a250c",
   "metadata": {},
   "source": [
    "# TDPA (transito diario promedio anual)"
   ]
  },
  {
   "cell_type": "markdown",
   "id": "c5e203d4",
   "metadata": {},
   "source": [
    "## INTRODUCCIÓN"
   ]
  },
  {
   "cell_type": "markdown",
   "id": "6c7f4d65",
   "metadata": {},
   "source": [
    ".- Las carreteras son una parte de la infraestructura que se vuelve muy importante para el desarrollo económico de un país. ​\n",
    "\n",
    ".- Gran parte de los recursos de un país se destina a la elaboración de caminos y vías que puedan conectar lugares y personas​\n",
    "\n",
    ".- El diseño de una carretera podría parecer sencillo, pero realmente para un correcto diseño tenemos que tomar en cuenta muchos factores, como por ejemplo el transito diario promedio anual a futuro. Según los años de vida que queramos darle a la carretera, ya sea a 15 años o más. ​"
   ]
  },
  {
   "cell_type": "markdown",
   "id": "64619c0e",
   "metadata": {},
   "source": [
    "## OBJETIVOS"
   ]
  },
  {
   "cell_type": "markdown",
   "id": "15543b46",
   "metadata": {},
   "source": [
    "### OBJETIVOS GENERALES"
   ]
  },
  {
   "cell_type": "markdown",
   "id": "a02c2b75",
   "metadata": {},
   "source": [
    ".- Encontrar el TDPA de la carretera 18 León - Aguascalientes para el año 2036 utilizando el ajuste de curvas en Python."
   ]
  },
  {
   "cell_type": "markdown",
   "id": "2689a963",
   "metadata": {},
   "source": [
    "## Objetivos Específicos "
   ]
  },
  {
   "cell_type": "markdown",
   "id": "5e0a7af2",
   "metadata": {},
   "source": [
    ".- Graficar el TDPA respecto al año y encontrar la función lineal que mejor represente el crecimiento de este.​\n",
    "\n",
    ".- Con el valor de la pendiente aplicar la formula para encontrar el imc y calcular el TDPA para 15 años a futuro.​"
   ]
  },
  {
   "cell_type": "markdown",
   "id": "0a6c04b9",
   "metadata": {},
   "source": [
    "## Proceso:"
   ]
  },
  {
   "cell_type": "markdown",
   "id": "705aa4eb",
   "metadata": {},
   "source": [
    "1. Extraemos los datos de la página de la Secretaría de Comunicación y Transporte\n",
    "2. Creamos la gráfica, donde se graficó sobre el eje de las X los años y sobre el eje de las Y el TDPA\n"
   ]
  },
  {
   "cell_type": "code",
   "execution_count": 1,
   "id": "78808967",
   "metadata": {},
   "outputs": [],
   "source": [
    "import numpy as np\n",
    "import pandas as pd\n",
    "import matplotlib.pyplot as plt"
   ]
  },
  {
   "cell_type": "code",
   "execution_count": 2,
   "id": "7fa1b582",
   "metadata": {},
   "outputs": [
    {
     "name": "stdout",
     "output_type": "stream",
     "text": [
      "     Año   TDPA\n",
      "0   2009  31834\n",
      "1   2010  33767\n",
      "2   2011  36511\n",
      "3   2012  37197\n",
      "4   2013  39487\n",
      "5   2014  41435\n",
      "6   2015  44352\n",
      "7   2016  45716\n",
      "8   2017  47960\n",
      "9   2018  51152\n",
      "10  2019  52775\n",
      "11  2020  62912\n",
      "12  2021  47921\n"
     ]
    },
    {
     "data": {
      "image/png": "[encoded data removed]",
      "text/plain": [
       "<Figure size 432x288 with 1 Axes>"
      ]
     },
     "metadata": {
      "needs_background": "light"
     },
     "output_type": "display_data"
    }
   ],
   "source": [
    "i = np.arange(13)\n",
    "df= pd.DataFrame(index=i, columns=[\"Año\", \"TDPA\"])\n",
    "df[\"Año\"] = [2009,2010,2011,2012,2013,2014,2015,2016,2017,2018,2019,2020,2021]\n",
    "df[\"TDPA\"] = [31834,33767,36511,37197,39487,41435,44352,45716,47960,51152,52775,62912,47921]\n",
    "\n",
    "df.head(5)\n",
    "print (df)\n",
    "x = df[\"Año\"]\n",
    "y = df[\"TDPA\"]\n",
    "plt.figure()\n",
    "plt.scatter(x, y, s=5)\n",
    "plt.grid()"
   ]
  },
  {
   "cell_type": "markdown",
   "id": "1924a954",
   "metadata": {},
   "source": [
    "3. Usando la función de Minimize se aplica el teorema de los mínimos cuadrados, para encontrar la función lineal que se ajuste      más al comportamiento del TDPA en los años seleccionados.\n",
    "4. La pendiente obtenida es el valor de A\n",
    "\n"
   ]
  },
  {
   "cell_type": "code",
   "execution_count": 3,
   "id": "925fcc56",
   "metadata": {},
   "outputs": [
    {
     "data": {
      "text/plain": [
       "      fun: 148094329.0905676\n",
       " hess_inv: array([[ 6.78571059e-06, -1.53876918e-08],\n",
       "       [-1.53876918e-08,  9.49040459e-09]])\n",
       "      jac: array([0., 0.])\n",
       "  message: 'Optimization terminated successfully.'\n",
       "     nfev: 271\n",
       "      nit: 15\n",
       "     njev: 90\n",
       "   status: 0\n",
       "  success: True\n",
       "        x: array([-4.05233448e+06,  2.03295924e+03])"
      ]
     },
     "execution_count": 3,
     "metadata": {},
     "output_type": "execute_result"
    }
   ],
   "source": [
    "import scipy.optimize as opt\n",
    "\n",
    "def funcion_de_costo_1(theta, x, y) :\n",
    "    prediccion = theta[0] + theta[1]*x\n",
    "    error = y - prediccion\n",
    "    error_2 = error**2\n",
    "    return np.sum(error_2)\n",
    "\n",
    "theta_inicial_1 = np.random.rand(2)\n",
    "sol = opt.minimize(funcion_de_costo_1,\n",
    "                   theta_inicial_1,\n",
    "                   args=(x, y))\n",
    "costo_1 = sol.fun\n",
    "resultados_1 = sol.x\n",
    "sol\n"
   ]
  },
  {
   "cell_type": "code",
   "execution_count": 4,
   "id": "fb319e01",
   "metadata": {},
   "outputs": [
    {
     "data": {
      "text/plain": [
       "<matplotlib.legend.Legend at 0x257d6105370>"
      ]
     },
     "execution_count": 4,
     "metadata": {},
     "output_type": "execute_result"
    },
    {
     "data": {
      "image/png": "[encoded data removed]",
      "text/plain": [
       "<Figure size 432x288 with 1 Axes>"
      ]
     },
     "metadata": {
      "needs_background": "light"
     },
     "output_type": "display_data"
    }
   ],
   "source": [
    "xn = np.linspace(2009, 2022, 200)\n",
    "yn1 = resultados_1[0] + resultados_1[1]*xn\n",
    "\n",
    "import matplotlib.pyplot as plt\n",
    "plt.figure()\n",
    "plt.scatter(x, y, s=5)\n",
    "plt.plot(xn, yn1, label=\"Lineal: \")\n",
    "plt.legend(loc=\"best\")\n"
   ]
  },
  {
   "cell_type": "code",
   "execution_count": 5,
   "id": "ed0eae6c",
   "metadata": {},
   "outputs": [
    {
     "data": {
      "text/plain": [
       "2032.9592437544775"
      ]
     },
     "execution_count": 5,
     "metadata": {},
     "output_type": "execute_result"
    }
   ],
   "source": [
    "A=sol.x[1]\n",
    "A\n"
   ]
  },
  {
   "cell_type": "markdown",
   "id": "361aef48",
   "metadata": {},
   "source": [
    "5. Se obtinene el imc con base al valor de A y la siguinte fórmula:\n",
    "   $$ N(A) / (ΣY - (A)(ΣX)) $$\n",
    "   "
   ]
  },
  {
   "cell_type": "code",
   "execution_count": 10,
   "id": "7bd4728d",
   "metadata": {},
   "outputs": [
    {
     "data": {
      "text/plain": [
       "0.06376785207114537"
      ]
     },
     "execution_count": 10,
     "metadata": {},
     "output_type": "execute_result"
    }
   ],
   "source": [
    "N=13\n",
    "SY=sum(y)\n",
    "SX=sum(i)\n",
    "imc=(N*A)/(SY-A*SX)\n",
    "imc"
   ]
  },
  {
   "cell_type": "markdown",
   "id": "e74705f2",
   "metadata": {},
   "source": [
    "6. Una vez obtenido el imc, obtenemos el TDPA para el año que queramos mediante la fórmula: \n",
    "   $$ TDPA_{final}=TDPA_{inicial}(1+imc)^n $$"
   ]
  },
  {
   "cell_type": "code",
   "execution_count": 7,
   "id": "c1978eac",
   "metadata": {},
   "outputs": [
    {
     "data": {
      "text/plain": [
       "121123.60659141565"
      ]
     },
     "execution_count": 7,
     "metadata": {},
     "output_type": "execute_result"
    }
   ],
   "source": [
    "TDPA2036=y[12]*(1+imc)**15\n",
    "TDPA2036"
   ]
  },
  {
   "cell_type": "markdown",
   "id": "8ce0e48e",
   "metadata": {},
   "source": [
    "## Conclusiones"
   ]
  },
  {
   "cell_type": "markdown",
   "id": "ba364386",
   "metadata": {},
   "source": [
    ".- Gracias a la programación pudimos cumplir con nuestros objetivos. \n",
    "   Ya que optimizamos la manera de resolver un problema de ingeniería civil. ​\n",
    "\n",
    ".- A través del tema ajuste de curvas pudimos calcular el porcentaje de la tasa \n",
    "   de crecimiento anual (imc) por el método de los mínimos cuadrados \n",
    "   y de esta manera calculamos el TDPA de la carretera León Aguascalientes para el año 2036, \n",
    "   buscando darle 15 años de vida a nuestro diseño de carretera.​\n",
    "\n",
    "​"
   ]
  },
  {
   "cell_type": "markdown",
   "id": "c7b0ac42",
   "metadata": {},
   "source": [
    "## Bibliografía APA​"
   ]
  },
  {
   "cell_type": "markdown",
   "id": "3011362b",
   "metadata": {},
   "source": [
    ".- AASHTO Guide for Design of Pavement Structures, Washington, DC.: American Association of State Highway and Transportation Officials​\n",
    "\n",
    ".- (2018)” MANUAL DE PROYECTO GEOMÉTRICO DE CARRETERAS “. Disponible en: https://comunicaciones.edomex.gob.mx/sites/comunicaciones.edomex.gob.mx/files/files/ SCT%20-%20Manual%20Proyecto%20Geometrico%20Carreteras%202018.pdf. [Consultado el 13 de marzo de 2022, a las 16:52 hrs] ​\n",
    "\n",
    ".- Ing.Corro c. Santiago, Ing. Prado O. Guillermo (1999)” DISEÑO ESTRUCTURAL DE PAVIMENTOS ASFÁLTICOS, INCLUYENDO CARRETERAS DE ALTAS ESPECIFICACIONES, DISPAV-5 - VERSIÓN 2.0”. Disponible en: https://datosabiertos.unam.mx/CCUD_DOR_WSwar/resources/doil/4945567d96f6492b .[Consultado el 13 de marzo de 2022, a las 17:39 hrs.]​"
   ]
  }
 ],
 "metadata": {
  "kernelspec": {
   "display_name": "Python 3 (ipykernel)",
   "language": "python",
   "name": "python3"
  },
  "language_info": {
   "codemirror_mode": {
    "name": "ipython",
    "version": 3
   },
   "file_extension": ".py",
   "mimetype": "text/x-python",
   "name": "python",
   "nbconvert_exporter": "python",
   "pygments_lexer": "ipython3",
   "version": "3.9.7"
  }
 },
 "nbformat": 4,
 "nbformat_minor": 5
}
